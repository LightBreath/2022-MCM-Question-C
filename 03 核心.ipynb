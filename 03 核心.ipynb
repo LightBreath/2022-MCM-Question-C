{
 "cells": [
  {
   "cell_type": "code",
   "execution_count": 2,
   "metadata": {},
   "outputs": [
    {
     "ename": "ImportError",
     "evalue": "Unable to import required dependencies:\nnumpy: \n\nIMPORTANT: PLEASE READ THIS FOR ADVICE ON HOW TO SOLVE THIS ISSUE!\n\nImporting the numpy C-extensions failed. This error can happen for\nmany reasons, often due to issues with your setup or how NumPy was\ninstalled.\n\nWe have compiled some common reasons and troubleshooting tips at:\n\n    https://numpy.org/devdocs/user/troubleshooting-importerror.html\n\nPlease note and check the following:\n\n  * The Python version is: Python3.7 from \"D:\\software\\miniconda\\envs\\Mymind\\python.exe\"\n  * The NumPy version is: \"1.21.5\"\n\nand make sure that they are the versions you expect.\nPlease carefully study the documentation linked above for further help.\n\nOriginal error was: DLL load failed: 找不到指定的模块。\n",
     "output_type": "error",
     "traceback": [
      "\u001b[1;31m---------------------------------------------------------------------------\u001b[0m",
      "\u001b[1;31mImportError\u001b[0m                               Traceback (most recent call last)",
      "\u001b[1;32m~\\AppData\\Local\\Temp/ipykernel_5252/808614241.py\u001b[0m in \u001b[0;36m<module>\u001b[1;34m\u001b[0m\n\u001b[1;32m----> 1\u001b[1;33m \u001b[1;32mimport\u001b[0m \u001b[0mpandas\u001b[0m \u001b[1;32mas\u001b[0m \u001b[0mpd\u001b[0m\u001b[1;33m\u001b[0m\u001b[1;33m\u001b[0m\u001b[0m\n\u001b[0m\u001b[0;32m      2\u001b[0m \u001b[1;32mimport\u001b[0m \u001b[0mnumpy\u001b[0m \u001b[1;32mas\u001b[0m \u001b[0mnp\u001b[0m\u001b[1;33m\u001b[0m\u001b[1;33m\u001b[0m\u001b[0m\n\u001b[0;32m      3\u001b[0m \u001b[1;32mimport\u001b[0m \u001b[0mmatplotlib\u001b[0m\u001b[1;33m.\u001b[0m\u001b[0mpyplot\u001b[0m \u001b[1;32mas\u001b[0m \u001b[0mplt\u001b[0m\u001b[1;33m\u001b[0m\u001b[1;33m\u001b[0m\u001b[0m\n\u001b[0;32m      4\u001b[0m \u001b[1;32mimport\u001b[0m \u001b[0mdatetime\u001b[0m\u001b[1;33m\u001b[0m\u001b[1;33m\u001b[0m\u001b[0m\n\u001b[0;32m      5\u001b[0m \u001b[1;32mimport\u001b[0m \u001b[0mmatplotlib\u001b[0m\u001b[1;33m\u001b[0m\u001b[1;33m\u001b[0m\u001b[0m\n",
      "\u001b[1;32mD:\\software\\miniconda\\envs\\Mymind\\lib\\site-packages\\pandas\\__init__.py\u001b[0m in \u001b[0;36m<module>\u001b[1;34m\u001b[0m\n\u001b[0;32m     15\u001b[0m \u001b[1;32mif\u001b[0m \u001b[0mmissing_dependencies\u001b[0m\u001b[1;33m:\u001b[0m\u001b[1;33m\u001b[0m\u001b[1;33m\u001b[0m\u001b[0m\n\u001b[0;32m     16\u001b[0m     raise ImportError(\n\u001b[1;32m---> 17\u001b[1;33m         \u001b[1;34m\"Unable to import required dependencies:\\n\"\u001b[0m \u001b[1;33m+\u001b[0m \u001b[1;34m\"\\n\"\u001b[0m\u001b[1;33m.\u001b[0m\u001b[0mjoin\u001b[0m\u001b[1;33m(\u001b[0m\u001b[0mmissing_dependencies\u001b[0m\u001b[1;33m)\u001b[0m\u001b[1;33m\u001b[0m\u001b[1;33m\u001b[0m\u001b[0m\n\u001b[0m\u001b[0;32m     18\u001b[0m     )\n\u001b[0;32m     19\u001b[0m \u001b[1;32mdel\u001b[0m \u001b[0mhard_dependencies\u001b[0m\u001b[1;33m,\u001b[0m \u001b[0mdependency\u001b[0m\u001b[1;33m,\u001b[0m \u001b[0mmissing_dependencies\u001b[0m\u001b[1;33m\u001b[0m\u001b[1;33m\u001b[0m\u001b[0m\n",
      "\u001b[1;31mImportError\u001b[0m: Unable to import required dependencies:\nnumpy: \n\nIMPORTANT: PLEASE READ THIS FOR ADVICE ON HOW TO SOLVE THIS ISSUE!\n\nImporting the numpy C-extensions failed. This error can happen for\nmany reasons, often due to issues with your setup or how NumPy was\ninstalled.\n\nWe have compiled some common reasons and troubleshooting tips at:\n\n    https://numpy.org/devdocs/user/troubleshooting-importerror.html\n\nPlease note and check the following:\n\n  * The Python version is: Python3.7 from \"D:\\software\\miniconda\\envs\\Mymind\\python.exe\"\n  * The NumPy version is: \"1.21.5\"\n\nand make sure that they are the versions you expect.\nPlease carefully study the documentation linked above for further help.\n\nOriginal error was: DLL load failed: 找不到指定的模块。\n"
     ]
    }
   ],
   "source": [
    "import pandas as pd\n",
    "import numpy as np\n",
    "import matplotlib.pyplot as plt\n",
    "import datetime\n",
    "import matplotlib\n",
    "from statsmodels.tsa.stattools import adfuller\n",
    "import statsmodels.tsa.stattools as st\n",
    "from statsmodels.tsa.arima_model import ARIMA\n",
    "import warnings\n",
    "import time"
   ]
  },
  {
   "cell_type": "code",
   "execution_count": 48,
   "metadata": {},
   "outputs": [],
   "source": [
    "# DS数模团队原创思路，如果您买的是盗版，请务必在公众号：DS数模，输入：美赛。获取C题答疑群群号\n",
    "# 如果本代码出现问题或其他优化思路，会在答疑群进行更新！并且，大家有问题在答疑群中也可以问DS C君\n",
    "warnings.filterwarnings('ignore')\n",
    "matplotlib.rcParams['font.family'] = 'SimHei'\n",
    "plt.rcParams['axes.unicode_minus'] = False "
   ]
  },
  {
   "cell_type": "code",
   "execution_count": 49,
   "metadata": {},
   "outputs": [
    {
     "data": {
      "text/html": [
       "<div>\n",
       "<style scoped>\n",
       "    .dataframe tbody tr th:only-of-type {\n",
       "        vertical-align: middle;\n",
       "    }\n",
       "\n",
       "    .dataframe tbody tr th {\n",
       "        vertical-align: top;\n",
       "    }\n",
       "\n",
       "    .dataframe thead th {\n",
       "        text-align: right;\n",
       "    }\n",
       "</style>\n",
       "<table border=\"1\" class=\"dataframe\">\n",
       "  <thead>\n",
       "    <tr style=\"text-align: right;\">\n",
       "      <th></th>\n",
       "      <th>Date</th>\n",
       "      <th>USD (PM)</th>\n",
       "      <th>Value</th>\n",
       "      <th>DealDay</th>\n",
       "      <th>黄金涨幅</th>\n",
       "      <th>比特币涨幅</th>\n",
       "      <th>黄金15日均价</th>\n",
       "      <th>黄金15日乖离率</th>\n",
       "      <th>比特币5日均价</th>\n",
       "      <th>比特币5日乖离率</th>\n",
       "      <th>...</th>\n",
       "      <th>预计比特币涨幅</th>\n",
       "      <th>预计现金持有份额</th>\n",
       "      <th>预计总资产</th>\n",
       "      <th>预计总资产变化率</th>\n",
       "      <th>黄金牛市</th>\n",
       "      <th>gold_cow</th>\n",
       "      <th>比特币牛市</th>\n",
       "      <th>bt_cow</th>\n",
       "      <th>黄金购买风险</th>\n",
       "      <th>比特币购买风险</th>\n",
       "    </tr>\n",
       "  </thead>\n",
       "  <tbody>\n",
       "    <tr>\n",
       "      <th>0</th>\n",
       "      <td>2016-09-11</td>\n",
       "      <td>0.00</td>\n",
       "      <td>621.65</td>\n",
       "      <td>0</td>\n",
       "      <td>0.566145</td>\n",
       "      <td>0.510080</td>\n",
       "      <td>0.0</td>\n",
       "      <td>0.571622</td>\n",
       "      <td>0.000000</td>\n",
       "      <td>0.550392</td>\n",
       "      <td>...</td>\n",
       "      <td>0</td>\n",
       "      <td>0</td>\n",
       "      <td>0</td>\n",
       "      <td>0</td>\n",
       "      <td>0.494444</td>\n",
       "      <td>-1</td>\n",
       "      <td>0.516667</td>\n",
       "      <td>1</td>\n",
       "      <td>0.51965</td>\n",
       "      <td>0.527381</td>\n",
       "    </tr>\n",
       "    <tr>\n",
       "      <th>1</th>\n",
       "      <td>2016-09-12</td>\n",
       "      <td>1324.60</td>\n",
       "      <td>609.67</td>\n",
       "      <td>1</td>\n",
       "      <td>0.566145</td>\n",
       "      <td>0.509356</td>\n",
       "      <td>0.0</td>\n",
       "      <td>0.571622</td>\n",
       "      <td>0.000000</td>\n",
       "      <td>0.550392</td>\n",
       "      <td>...</td>\n",
       "      <td>0</td>\n",
       "      <td>0</td>\n",
       "      <td>0</td>\n",
       "      <td>0</td>\n",
       "      <td>0.488889</td>\n",
       "      <td>-2</td>\n",
       "      <td>0.533333</td>\n",
       "      <td>2</td>\n",
       "      <td>0.51595</td>\n",
       "      <td>0.538481</td>\n",
       "    </tr>\n",
       "    <tr>\n",
       "      <th>2</th>\n",
       "      <td>2016-09-13</td>\n",
       "      <td>1323.65</td>\n",
       "      <td>610.92</td>\n",
       "      <td>1</td>\n",
       "      <td>0.561015</td>\n",
       "      <td>0.510146</td>\n",
       "      <td>0.0</td>\n",
       "      <td>0.571622</td>\n",
       "      <td>0.000000</td>\n",
       "      <td>0.550392</td>\n",
       "      <td>...</td>\n",
       "      <td>0</td>\n",
       "      <td>0</td>\n",
       "      <td>0</td>\n",
       "      <td>0</td>\n",
       "      <td>0.483333</td>\n",
       "      <td>-3</td>\n",
       "      <td>0.550000</td>\n",
       "      <td>3</td>\n",
       "      <td>0.51225</td>\n",
       "      <td>0.549581</td>\n",
       "    </tr>\n",
       "    <tr>\n",
       "      <th>3</th>\n",
       "      <td>2016-09-14</td>\n",
       "      <td>1321.75</td>\n",
       "      <td>608.82</td>\n",
       "      <td>1</td>\n",
       "      <td>0.555886</td>\n",
       "      <td>0.509949</td>\n",
       "      <td>0.0</td>\n",
       "      <td>0.571622</td>\n",
       "      <td>0.000000</td>\n",
       "      <td>0.550392</td>\n",
       "      <td>...</td>\n",
       "      <td>0</td>\n",
       "      <td>0</td>\n",
       "      <td>0</td>\n",
       "      <td>0</td>\n",
       "      <td>0.477778</td>\n",
       "      <td>-4</td>\n",
       "      <td>0.566667</td>\n",
       "      <td>4</td>\n",
       "      <td>0.50855</td>\n",
       "      <td>0.560681</td>\n",
       "    </tr>\n",
       "    <tr>\n",
       "      <th>4</th>\n",
       "      <td>2016-09-15</td>\n",
       "      <td>1310.80</td>\n",
       "      <td>610.38</td>\n",
       "      <td>1</td>\n",
       "      <td>0.507019</td>\n",
       "      <td>0.510146</td>\n",
       "      <td>0.0</td>\n",
       "      <td>0.571622</td>\n",
       "      <td>0.009834</td>\n",
       "      <td>0.545356</td>\n",
       "      <td>...</td>\n",
       "      <td>0</td>\n",
       "      <td>0</td>\n",
       "      <td>0</td>\n",
       "      <td>0</td>\n",
       "      <td>0.472222</td>\n",
       "      <td>-5</td>\n",
       "      <td>0.583333</td>\n",
       "      <td>5</td>\n",
       "      <td>0.50485</td>\n",
       "      <td>0.570104</td>\n",
       "    </tr>\n",
       "  </tbody>\n",
       "</table>\n",
       "<p>5 rows × 35 columns</p>\n",
       "</div>"
      ],
      "text/plain": [
       "        Date  USD (PM)   Value  DealDay      黄金涨幅     比特币涨幅  黄金15日均价  \\\n",
       "0 2016-09-11      0.00  621.65        0  0.566145  0.510080      0.0   \n",
       "1 2016-09-12   1324.60  609.67        1  0.566145  0.509356      0.0   \n",
       "2 2016-09-13   1323.65  610.92        1  0.561015  0.510146      0.0   \n",
       "3 2016-09-14   1321.75  608.82        1  0.555886  0.509949      0.0   \n",
       "4 2016-09-15   1310.80  610.38        1  0.507019  0.510146      0.0   \n",
       "\n",
       "   黄金15日乖离率   比特币5日均价  比特币5日乖离率  ...  预计比特币涨幅  预计现金持有份额  预计总资产  预计总资产变化率  \\\n",
       "0  0.571622  0.000000  0.550392  ...        0         0      0         0   \n",
       "1  0.571622  0.000000  0.550392  ...        0         0      0         0   \n",
       "2  0.571622  0.000000  0.550392  ...        0         0      0         0   \n",
       "3  0.571622  0.000000  0.550392  ...        0         0      0         0   \n",
       "4  0.571622  0.009834  0.545356  ...        0         0      0         0   \n",
       "\n",
       "       黄金牛市  gold_cow     比特币牛市  bt_cow   黄金购买风险   比特币购买风险  \n",
       "0  0.494444        -1  0.516667       1  0.51965  0.527381  \n",
       "1  0.488889        -2  0.533333       2  0.51595  0.538481  \n",
       "2  0.483333        -3  0.550000       3  0.51225  0.549581  \n",
       "3  0.477778        -4  0.566667       4  0.50855  0.560681  \n",
       "4  0.472222        -5  0.583333       5  0.50485  0.570104  \n",
       "\n",
       "[5 rows x 35 columns]"
      ]
     },
     "execution_count": 49,
     "metadata": {},
     "output_type": "execute_result"
    }
   ],
   "source": [
    "df = pd.read_excel('表.xlsx',index_col=0)\n",
    "df.head()"
   ]
  },
  {
   "cell_type": "markdown",
   "metadata": {},
   "source": [
    "使用arima模型进行预测，参数选择来自于02中的代码"
   ]
  },
  {
   "cell_type": "code",
   "execution_count": 50,
   "metadata": {},
   "outputs": [],
   "source": [
    "def gold_predict(data,date):\n",
    "    model = ARIMA(data, order=(4,1,4))  # order(p,d阶差分，q)\n",
    "    result = model.fit()\n",
    "    try:\n",
    "        pred = result.predict(date.strftime('%m-%d-20%y'),(date+datetime.timedelta(15)).strftime('20%y-%m-%d'))\n",
    "    except:\n",
    "        # 15天后可能不是交易日会报错，加两天\n",
    "        pred = result.predict(date.strftime('%m-%d-20%y'),(date+datetime.timedelta(17)).strftime('20%y-%m-%d'))\n",
    "    return pred, abs(sum(result.resid))\n",
    "\n",
    "def bt_predict(data,date):\n",
    "    model = ARIMA(data, order=(2,1,2))\n",
    "    result = model.fit()\n",
    "    pred = result.predict(date.strftime('%m-%d-20%y'),(date+datetime.timedelta(5)).strftime('20%y-%m-%d'))\n",
    "    return pred, abs(sum(result.resid))"
   ]
  },
  {
   "cell_type": "markdown",
   "metadata": {},
   "source": [
    "# 这里会运行2545.082571029663秒，时间充足可以自己运行一下\n",
    "# !!!!!（下面的这个单元格可以不运行）"
   ]
  },
  {
   "cell_type": "code",
   "execution_count": 134,
   "metadata": {
    "scrolled": true
   },
   "outputs": [
    {
     "data": {
      "text/plain": [
       "2545.082571029663"
      ]
     },
     "execution_count": 134,
     "metadata": {},
     "output_type": "execute_result"
    }
   ],
   "source": [
    "t=time.time()\n",
    "df['黄金残差']=0\n",
    "df['比特币残差']=0\n",
    "df['预计黄金涨幅']=0\n",
    "df['预计比特币涨幅']=0\n",
    "bt_df = df[['Date','Value']]\n",
    "gold_df = df[['Date','USD (PM)']][df['DealDay']==1]\n",
    "gold_df.index=gold_df['Date']\n",
    "bt_df.index=bt_df['Date']\n",
    "del gold_df['Date']\n",
    "del bt_df['Date']\n",
    "for i in range(df.shape[0]):\n",
    "    if df['DealDay'][i]:\n",
    "        try:\n",
    "            p,r=gold_predict(gold_df[:i],df['Date'][i])\n",
    "            df['黄金残差'][i]=r\n",
    "            df['预计黄金涨幅'][i]=p[0]\n",
    "        except:\n",
    "            pass\n",
    "    try:\n",
    "        p,r=bt_predict(bt_df[:i],df['Date'][i])\n",
    "        df['比特币残差'][i]=r\n",
    "        df['预计比特币涨幅'][i]=p[0]\n",
    "    except:\n",
    "        pass\n",
    "time.time()-t"
   ]
  },
  {
   "cell_type": "code",
   "execution_count": 51,
   "metadata": {},
   "outputs": [],
   "source": [
    "df=pd.read_excel('预计涨幅.xlsx',index_col=0)"
   ]
  },
  {
   "cell_type": "code",
   "execution_count": 52,
   "metadata": {},
   "outputs": [],
   "source": [
    "# df=pd.read_excel('预计涨幅.xlsx')"
   ]
  },
  {
   "cell_type": "code",
   "execution_count": 53,
   "metadata": {},
   "outputs": [
    {
     "data": {
      "image/png": "[encoded data removed]",
      "text/plain": [
       "<Figure size 432x288 with 1 Axes>"
      ]
     },
     "metadata": {
      "needs_background": "light"
     },
     "output_type": "display_data"
    }
   ],
   "source": [
    "df['USD (PM)'][1:].diff(1).dropna().plot()\n",
    "df['预计黄金涨幅'][1:].plot()\n",
    "plt.savefig('预计黄金涨幅.png')\n",
    "plt.show()"
   ]
  },
  {
   "cell_type": "code",
   "execution_count": 54,
   "metadata": {},
   "outputs": [
    {
     "data": {
      "image/png": "[encoded data removed]",
      "text/plain": [
       "<Figure size 432x288 with 1 Axes>"
      ]
     },
     "metadata": {
      "needs_background": "light"
     },
     "output_type": "display_data"
    }
   ],
   "source": [
    "df['Value'].diff(1).dropna().plot()\n",
    "df['预计比特币涨幅'].plot()\n",
    "plt.savefig('预计比特币涨幅.png')\n",
    "plt.show()"
   ]
  },
  {
   "cell_type": "code",
   "execution_count": 55,
   "metadata": {},
   "outputs": [
    {
     "data": {
      "text/html": [
       "<div>\n",
       "<style scoped>\n",
       "    .dataframe tbody tr th:only-of-type {\n",
       "        vertical-align: middle;\n",
       "    }\n",
       "\n",
       "    .dataframe tbody tr th {\n",
       "        vertical-align: top;\n",
       "    }\n",
       "\n",
       "    .dataframe thead th {\n",
       "        text-align: right;\n",
       "    }\n",
       "</style>\n",
       "<table border=\"1\" class=\"dataframe\">\n",
       "  <thead>\n",
       "    <tr style=\"text-align: right;\">\n",
       "      <th></th>\n",
       "      <th>Date</th>\n",
       "      <th>USD (PM)</th>\n",
       "      <th>Value</th>\n",
       "      <th>DealDay</th>\n",
       "      <th>黄金涨幅</th>\n",
       "      <th>比特币涨幅</th>\n",
       "      <th>黄金15日均价</th>\n",
       "      <th>黄金15日乖离率</th>\n",
       "      <th>比特币5日均价</th>\n",
       "      <th>比特币5日乖离率</th>\n",
       "      <th>...</th>\n",
       "      <th>预计总资产</th>\n",
       "      <th>预计总资产变化率</th>\n",
       "      <th>黄金牛市</th>\n",
       "      <th>gold_cow</th>\n",
       "      <th>比特币牛市</th>\n",
       "      <th>bt_cow</th>\n",
       "      <th>黄金购买风险</th>\n",
       "      <th>比特币购买风险</th>\n",
       "      <th>黄金残差</th>\n",
       "      <th>比特币残差</th>\n",
       "    </tr>\n",
       "  </thead>\n",
       "  <tbody>\n",
       "    <tr>\n",
       "      <th>0</th>\n",
       "      <td>2016-09-11</td>\n",
       "      <td>0.00</td>\n",
       "      <td>621.65</td>\n",
       "      <td>0</td>\n",
       "      <td>0.566145</td>\n",
       "      <td>0.510080</td>\n",
       "      <td>0.0</td>\n",
       "      <td>0.571622</td>\n",
       "      <td>0.000000</td>\n",
       "      <td>0.550392</td>\n",
       "      <td>...</td>\n",
       "      <td>0</td>\n",
       "      <td>0</td>\n",
       "      <td>0.494444</td>\n",
       "      <td>-1</td>\n",
       "      <td>0.516667</td>\n",
       "      <td>1</td>\n",
       "      <td>0.51965</td>\n",
       "      <td>0.527381</td>\n",
       "      <td>0</td>\n",
       "      <td>0</td>\n",
       "    </tr>\n",
       "    <tr>\n",
       "      <th>1</th>\n",
       "      <td>2016-09-12</td>\n",
       "      <td>1324.60</td>\n",
       "      <td>609.67</td>\n",
       "      <td>1</td>\n",
       "      <td>0.566145</td>\n",
       "      <td>0.509356</td>\n",
       "      <td>0.0</td>\n",
       "      <td>0.571622</td>\n",
       "      <td>0.000000</td>\n",
       "      <td>0.550392</td>\n",
       "      <td>...</td>\n",
       "      <td>0</td>\n",
       "      <td>0</td>\n",
       "      <td>0.488889</td>\n",
       "      <td>-2</td>\n",
       "      <td>0.533333</td>\n",
       "      <td>2</td>\n",
       "      <td>0.51595</td>\n",
       "      <td>0.538481</td>\n",
       "      <td>0</td>\n",
       "      <td>0</td>\n",
       "    </tr>\n",
       "    <tr>\n",
       "      <th>2</th>\n",
       "      <td>2016-09-13</td>\n",
       "      <td>1323.65</td>\n",
       "      <td>610.92</td>\n",
       "      <td>1</td>\n",
       "      <td>0.561015</td>\n",
       "      <td>0.510146</td>\n",
       "      <td>0.0</td>\n",
       "      <td>0.571622</td>\n",
       "      <td>0.000000</td>\n",
       "      <td>0.550392</td>\n",
       "      <td>...</td>\n",
       "      <td>0</td>\n",
       "      <td>0</td>\n",
       "      <td>0.483333</td>\n",
       "      <td>-3</td>\n",
       "      <td>0.550000</td>\n",
       "      <td>3</td>\n",
       "      <td>0.51225</td>\n",
       "      <td>0.549581</td>\n",
       "      <td>0</td>\n",
       "      <td>0</td>\n",
       "    </tr>\n",
       "    <tr>\n",
       "      <th>3</th>\n",
       "      <td>2016-09-14</td>\n",
       "      <td>1321.75</td>\n",
       "      <td>608.82</td>\n",
       "      <td>1</td>\n",
       "      <td>0.555886</td>\n",
       "      <td>0.509949</td>\n",
       "      <td>0.0</td>\n",
       "      <td>0.571622</td>\n",
       "      <td>0.000000</td>\n",
       "      <td>0.550392</td>\n",
       "      <td>...</td>\n",
       "      <td>0</td>\n",
       "      <td>0</td>\n",
       "      <td>0.477778</td>\n",
       "      <td>-4</td>\n",
       "      <td>0.566667</td>\n",
       "      <td>4</td>\n",
       "      <td>0.50855</td>\n",
       "      <td>0.560681</td>\n",
       "      <td>0</td>\n",
       "      <td>0</td>\n",
       "    </tr>\n",
       "    <tr>\n",
       "      <th>4</th>\n",
       "      <td>2016-09-15</td>\n",
       "      <td>1310.80</td>\n",
       "      <td>610.38</td>\n",
       "      <td>1</td>\n",
       "      <td>0.507019</td>\n",
       "      <td>0.510146</td>\n",
       "      <td>0.0</td>\n",
       "      <td>0.571622</td>\n",
       "      <td>0.009834</td>\n",
       "      <td>0.545356</td>\n",
       "      <td>...</td>\n",
       "      <td>0</td>\n",
       "      <td>0</td>\n",
       "      <td>0.472222</td>\n",
       "      <td>-5</td>\n",
       "      <td>0.583333</td>\n",
       "      <td>5</td>\n",
       "      <td>0.50485</td>\n",
       "      <td>0.570104</td>\n",
       "      <td>0</td>\n",
       "      <td>0</td>\n",
       "    </tr>\n",
       "  </tbody>\n",
       "</table>\n",
       "<p>5 rows × 37 columns</p>\n",
       "</div>"
      ],
      "text/plain": [
       "        Date  USD (PM)   Value  DealDay      黄金涨幅     比特币涨幅  黄金15日均价  \\\n",
       "0 2016-09-11      0.00  621.65        0  0.566145  0.510080      0.0   \n",
       "1 2016-09-12   1324.60  609.67        1  0.566145  0.509356      0.0   \n",
       "2 2016-09-13   1323.65  610.92        1  0.561015  0.510146      0.0   \n",
       "3 2016-09-14   1321.75  608.82        1  0.555886  0.509949      0.0   \n",
       "4 2016-09-15   1310.80  610.38        1  0.507019  0.510146      0.0   \n",
       "\n",
       "   黄金15日乖离率   比特币5日均价  比特币5日乖离率  ...  预计总资产  预计总资产变化率      黄金牛市  gold_cow  \\\n",
       "0  0.571622  0.000000  0.550392  ...      0         0  0.494444        -1   \n",
       "1  0.571622  0.000000  0.550392  ...      0         0  0.488889        -2   \n",
       "2  0.571622  0.000000  0.550392  ...      0         0  0.483333        -3   \n",
       "3  0.571622  0.000000  0.550392  ...      0         0  0.477778        -4   \n",
       "4  0.571622  0.009834  0.545356  ...      0         0  0.472222        -5   \n",
       "\n",
       "      比特币牛市  bt_cow   黄金购买风险   比特币购买风险  黄金残差  比特币残差  \n",
       "0  0.516667       1  0.51965  0.527381     0      0  \n",
       "1  0.533333       2  0.51595  0.538481     0      0  \n",
       "2  0.550000       3  0.51225  0.549581     0      0  \n",
       "3  0.566667       4  0.50855  0.560681     0      0  \n",
       "4  0.583333       5  0.50485  0.570104     0      0  \n",
       "\n",
       "[5 rows x 37 columns]"
      ]
     },
     "execution_count": 55,
     "metadata": {},
     "output_type": "execute_result"
    }
   ],
   "source": [
    "df.head()"
   ]
  },
  {
   "cell_type": "markdown",
   "metadata": {},
   "source": [
    "处理残差中的空值（主要来自非交易日），使用上一次交易日的残差进行补充  \n",
    "对残差，预计涨幅进行归一化"
   ]
  },
  {
   "cell_type": "code",
   "execution_count": 56,
   "metadata": {},
   "outputs": [],
   "source": [
    "def zeros(x):\n",
    "    if x==0:\n",
    "        return np.nan\n",
    "    else:\n",
    "        return x"
   ]
  },
  {
   "cell_type": "code",
   "execution_count": 57,
   "metadata": {},
   "outputs": [],
   "source": [
    "df['黄金残差']=df['黄金残差'].apply(zeros).fillna(method='ffill')\n",
    "df['预计黄金涨幅']=df['预计黄金涨幅'].apply(zeros).fillna(method='ffill')\n",
    "# df=df.fillna()\n",
    "max_,min_=df['黄金残差'].max(),df['黄金残差'].min()\n",
    "df['黄金残差']=df['黄金残差'].apply(lambda x:(x-min_)/(max_-min_))\n",
    "max_,min_=df['比特币残差'].max(),df['比特币残差'].min()\n",
    "df['比特币残差']=df['比特币残差'].apply(lambda x:(x-min_)/(max_-min_))\n",
    "max_,min_=df['预计黄金涨幅'].max(),df['预计黄金涨幅'].min()\n",
    "df['预计黄金涨幅归一化']=df['预计黄金涨幅'].apply(lambda x:(x-min_)/(max_-min_))\n",
    "max_,min_=df['预计比特币涨幅'].max(),df['预计比特币涨幅'].min()\n",
    "df['预计比特币涨幅归一化']=df['预计比特币涨幅'].apply(lambda x:(x-min_)/(max_-min_))\n"
   ]
  },
  {
   "cell_type": "markdown",
   "metadata": {},
   "source": [
    "计算买入评分  \n",
    "买入评分=涨幅X10+牛市X5-残差+1/购买风险"
   ]
  },
  {
   "cell_type": "code",
   "execution_count": 58,
   "metadata": {
    "scrolled": false
   },
   "outputs": [],
   "source": [
    "df['黄金买入评分']=-df['黄金残差']+df['预计黄金涨幅归一化']*10+df['黄金牛市']*5+1/df['黄金购买风险']\n",
    "df['比特币买入评分']=-df['比特币残差']+df['预计比特币涨幅归一化']*10+df['比特币牛市']*5+1/df['比特币购买风险']"
   ]
  },
  {
   "cell_type": "markdown",
   "metadata": {},
   "source": [
    "对比评分合理性"
   ]
  },
  {
   "cell_type": "code",
   "execution_count": 59,
   "metadata": {},
   "outputs": [
    {
     "data": {
      "image/png": "[encoded data removed]",
      "text/plain": [
       "<Figure size 432x288 with 1 Axes>"
      ]
     },
     "metadata": {
      "needs_background": "light"
     },
     "output_type": "display_data"
    }
   ],
   "source": [
    "# DS数模团队原创思路，如果您买的是盗版，请务必在公众号：DS数模，输入：美赛。获取C题答疑群群号\n",
    "# 如果本代码出现问题或其他优化思路，会在答疑群进行更新！并且，大家有问题在答疑群中也可以问DS C君\n",
    "plt.plot(df['Date'],df['黄金买入评分'])\n",
    "plt.savefig('黄金买入评分.png')\n",
    "plt.show()"
   ]
  },
  {
   "cell_type": "markdown",
   "metadata": {},
   "source": [
    "上下两个图对比着看，同一时间段，下图下降，上图在上升即为合理。  \n",
    "低谷时买入，峰值时卖出"
   ]
  },
  {
   "cell_type": "code",
   "execution_count": 60,
   "metadata": {},
   "outputs": [
    {
     "data": {
      "image/png": "[encoded data removed]",
      "text/plain": [
       "<Figure size 432x288 with 1 Axes>"
      ]
     },
     "metadata": {
      "needs_background": "light"
     },
     "output_type": "display_data"
    }
   ],
   "source": [
    "plt.plot(df['Date'][1:],df['USD (PM)'][1:])\n",
    "plt.show()"
   ]
  },
  {
   "cell_type": "code",
   "execution_count": 61,
   "metadata": {},
   "outputs": [
    {
     "data": {
      "image/png": "[encoded data removed]",
      "text/plain": [
       "<Figure size 432x288 with 1 Axes>"
      ]
     },
     "metadata": {
      "needs_background": "light"
     },
     "output_type": "display_data"
    }
   ],
   "source": [
    "plt.plot(df['Date'],df['比特币买入评分'])\n",
    "plt.savefig('比特币买入评分.png')\n",
    "plt.show()"
   ]
  },
  {
   "cell_type": "markdown",
   "metadata": {},
   "source": [
    "某一个值太大，归一化时影响其他的结果，所以去除最大值，归一化后重新将该值设为1"
   ]
  },
  {
   "cell_type": "code",
   "execution_count": 62,
   "metadata": {},
   "outputs": [
    {
     "name": "stdout",
     "output_type": "stream",
     "text": [
      "1279\n"
     ]
    }
   ],
   "source": [
    "for i in range(df['比特币买入评分'].shape[0]):\n",
    "    if df['比特币买入评分'][i]>30:\n",
    "        print(i)"
   ]
  },
  {
   "cell_type": "code",
   "execution_count": 63,
   "metadata": {},
   "outputs": [],
   "source": [
    "df['比特币买入评分'][1279]=10"
   ]
  },
  {
   "cell_type": "code",
   "execution_count": 64,
   "metadata": {},
   "outputs": [
    {
     "data": {
      "image/png": "[encoded data removed]",
      "text/plain": [
       "<Figure size 432x288 with 1 Axes>"
      ]
     },
     "metadata": {
      "needs_background": "light"
     },
     "output_type": "display_data"
    }
   ],
   "source": [
    "plt.plot(df['Date'],df['比特币买入评分'])\n",
    "# plt.savefig('比特币买入评分.png')\n",
    "plt.show()"
   ]
  },
  {
   "cell_type": "code",
   "execution_count": 65,
   "metadata": {},
   "outputs": [
    {
     "data": {
      "text/plain": [
       "[<matplotlib.lines.Line2D at 0x23a466a78c8>]"
      ]
     },
     "execution_count": 65,
     "metadata": {},
     "output_type": "execute_result"
    },
    {
     "data": {
      "image/png": "[encoded data removed]",
      "text/plain": [
       "<Figure size 432x288 with 1 Axes>"
      ]
     },
     "metadata": {
      "needs_background": "light"
     },
     "output_type": "display_data"
    }
   ],
   "source": [
    "plt.plot(df['Date'],df['Value'])"
   ]
  },
  {
   "cell_type": "markdown",
   "metadata": {},
   "source": [
    "买入评分归一化"
   ]
  },
  {
   "cell_type": "code",
   "execution_count": 66,
   "metadata": {},
   "outputs": [],
   "source": [
    "max_,min_=df['黄金买入评分'].max(),df['黄金买入评分'].min()\n",
    "df['黄金买入评分']=df['黄金买入评分'].apply(lambda x:(x-min_)/(max_-min_))\n",
    "max_,min_=df['比特币买入评分'].max(),df['黄金买入评分'].min()\n",
    "df['比特币买入评分']=df['比特币买入评分'].apply(lambda x:(x-min_)/(max_-min_))"
   ]
  },
  {
   "cell_type": "code",
   "execution_count": 67,
   "metadata": {},
   "outputs": [
    {
     "data": {
      "image/png": "[encoded data removed]",
      "text/plain": [
       "<Figure size 432x288 with 1 Axes>"
      ]
     },
     "metadata": {
      "needs_background": "light"
     },
     "output_type": "display_data"
    }
   ],
   "source": [
    "df['比特币买入评分'][1279]=1\n",
    "plt.plot(df['Date'],df['比特币买入评分'])\n",
    "plt.savefig('比特币买入评分图.png')\n",
    "plt.show()"
   ]
  },
  {
   "cell_type": "code",
   "execution_count": 68,
   "metadata": {},
   "outputs": [
    {
     "data": {
      "image/png": "[encoded data removed]",
      "text/plain": [
       "<Figure size 432x288 with 1 Axes>"
      ]
     },
     "metadata": {
      "needs_background": "light"
     },
     "output_type": "display_data"
    }
   ],
   "source": [
    "plt.scatter(df['Date'][df['比特币买入评分']>0.71],df['比特币买入评分'][df['比特币买入评分']>0.71],label='买入')\n",
    "plt.scatter(df['Date'][df['比特币买入评分']<0.55],df['比特币买入评分'][df['比特币买入评分']<0.55],label='卖出')\n",
    "plt.legend()\n",
    "plt.savefig('比特币评分对比图.png')\n",
    "\n",
    "plt.show()"
   ]
  },
  {
   "cell_type": "code",
   "execution_count": 69,
   "metadata": {},
   "outputs": [
    {
     "data": {
      "text/plain": [
       "[<matplotlib.lines.Line2D at 0x23a440adb08>]"
      ]
     },
     "execution_count": 69,
     "metadata": {},
     "output_type": "execute_result"
    },
    {
     "data": {
      "image/png": "[encoded data removed]",
      "text/plain": [
       "<Figure size 432x288 with 1 Axes>"
      ]
     },
     "metadata": {
      "needs_background": "light"
     },
     "output_type": "display_data"
    }
   ],
   "source": [
    "plt.plot(df['Date'],df['黄金买入评分'])"
   ]
  },
  {
   "cell_type": "code",
   "execution_count": 70,
   "metadata": {},
   "outputs": [
    {
     "data": {
      "image/png": "[encoded data removed]",
      "text/plain": [
       "<Figure size 432x288 with 1 Axes>"
      ]
     },
     "metadata": {
      "needs_background": "light"
     },
     "output_type": "display_data"
    }
   ],
   "source": [
    "plt.scatter(df['Date'][df['黄金买入评分']>0.58],df['黄金买入评分'][df['黄金买入评分']>0.58])\n",
    "plt.scatter(df['Date'][df['黄金买入评分']<0.3],df['黄金买入评分'][df['黄金买入评分']<0.3])\n",
    "plt.savefig('黄金评分对比图.png')\n",
    "plt.show()"
   ]
  },
  {
   "cell_type": "markdown",
   "metadata": {},
   "source": [
    "前面计算时涨幅被归一化了，重新计算"
   ]
  },
  {
   "cell_type": "code",
   "execution_count": 71,
   "metadata": {},
   "outputs": [],
   "source": [
    "# DS数模团队原创思路，如果您买的是盗版，请务必在公众号：DS数模，输入：美赛。获取C题答疑群群号\n",
    "# 如果本代码出现问题或其他优化思路，会在答疑群进行更新！并且，大家有问题在答疑群中也可以问DS C君\n",
    "for i in df.index[1:]:\n",
    "    df['黄金涨幅'][i]=df['USD (PM)'][i]-df['USD (PM)'][i-1]\n",
    "    df['比特币涨幅'][i]=df['Value'][i]-df['Value'][i-1]"
   ]
  },
  {
   "cell_type": "code",
   "execution_count": null,
   "metadata": {},
   "outputs": [],
   "source": []
  },
  {
   "cell_type": "markdown",
   "metadata": {},
   "source": [
    "初始化值，将数据类型设置为浮点型，整型会直接对结果取整，导致小数位的丢失"
   ]
  },
  {
   "cell_type": "code",
   "execution_count": 72,
   "metadata": {},
   "outputs": [],
   "source": [
    "df['总资产'][0]=1000.0\n",
    "df['现金持有份额'][0]=1000.0\n",
    "df['黄金持有份额'][0]=0.0\n",
    "for i in df.columns[1:]:\n",
    "    df[i]=df[i].astype('float')"
   ]
  },
  {
   "cell_type": "markdown",
   "metadata": {},
   "source": [
    "开始买入与卖出：\n",
    "1. 黄金评分大于0.58买入，小于0.3时卖出，比特币评分大于0.71时买入，小于0.56时卖出，即黄金买入标准0.58，卖出标准0.3\n",
    "2. 买卖规则  \n",
    "    判断是否为黄金交易日，是考虑黄金，不是不考虑黄金  \n",
    "    当比特币和黄金可同时买入时，若黄金买入评分-0.58>(比特币买入评分-0.71)X2   (黄金评分买入标准比比特币低，上升空间更大)  \n",
    "    买入额度=当前现金额度X买入评分X（1-手续费）/当前价格  \n",
    "    卖出额度=持有份额*（1-评分+卖出标准）    \n",
    " \n",
    "计算现金时应注意手续费"
   ]
  },
  {
   "cell_type": "code",
   "execution_count": 73,
   "metadata": {},
   "outputs": [],
   "source": [
    "# 黄金买0.58，卖0.3,中间不动\n",
    "# 比特币买0.72，卖56\n",
    "per_gold = 0.01\n",
    "per_bt = 0.02\n",
    "gold_buy=0.578\n",
    "gold_sell=0.311\n",
    "bit_buy=0.705\n",
    "bit_sell=0.562\n",
    "\n",
    "for i in range(1,df.shape[0]):\n",
    "    bt = df['比特币买入评分'][i]\n",
    "    df['当前黄金利润'][i]=df['当前黄金利润'][i-1]+df['黄金涨幅'][i-1]*df['黄金持有份额'][i-1]\n",
    "    df['当前比特币利润'][i]=df['当前比特币利润'][i-1]+df['比特币涨幅'][i-1]*df['比特币持有份额'][i-1]\n",
    "    df['黄金持有份额'][i]=df['黄金持有份额'][i-1]\n",
    "    df['现金持有份额'][i]=df['现金持有份额'][i-1]\n",
    "    df['比特币持有份额'][i]=df['比特币持有份额'][i-1]\n",
    "    if df['DealDay'][i]:  # 判断交易日\n",
    "        gold = df['黄金买入评分'][i]\n",
    "        if gold > gold_buy:\n",
    "            if bt > 0.71:# 两者都可买入时\n",
    "                if gold-gold_buy>(bt-bit_sell)*2:  # 买入黄金\n",
    "                    df['黄金持有份额'][i]=df['黄金持有份额'][i-1]+df['现金持有份额'][i-1]*gold*(1-per_gold)/df['USD (PM)'][i-1]\n",
    "                    df['现金持有份额'][i]=df['现金持有份额'][i-1]-df['现金持有份额'][i-1]*gold\n",
    "#                     print('两者选黄金',df['黄金持有份额'][i],df['现金持有份额'][i],df['现金持有份额'][i-1],gold,1-per_gold,df['USD (PM)'][i-1])\n",
    "                else:  # 买入比特币\n",
    "                    df['比特币持有份额'][i]=df['比特币持有份额'][i-1]+df['现金持有份额'][i-1]*bt*(1-per_bt)/df['Value'][i-1]\n",
    "                    df['现金持有份额'][i]=df['现金持有份额'][i-1]-df['现金持有份额'][i-1]*bt\n",
    "#                     print('两者选比特币',df['比特币持有份额'][i],df['现金持有份额'][i])\n",
    "            else: # 只能买黄金时\n",
    "                df['黄金持有份额'][i]=df['黄金持有份额'][i-1]+df['现金持有份额'][i-1]*gold*(1-per_gold)/df['USD (PM)'][i-1]\n",
    "                df['现金持有份额'][i]=df['现金持有份额'][i-1]-df['现金持有份额'][i-1]*gold\n",
    "#                 print('只能买黄金',df['黄金持有份额'][i])\n",
    "        if gold<gold_sell:  # sell黄金\n",
    "            df['黄金持有份额'][i]=df['黄金持有份额'][i-1]-df['黄金持有份额'][i-1]*(1+gold-gold_sell)\n",
    "            df['现金持有份额'][i]=df['现金持有份额'][i-1]+df['黄金持有份额'][i-1]*(1+gold-gold_sell)*(1-per_gold)*df['USD (PM)'][i-1]\n",
    "#             print('卖黄金',df['黄金持有份额'][i],df['现金持有份额'][i])\n",
    "        continue    \n",
    "    if bt > bit_buy:  # 买入比特币\n",
    "        df['比特币持有份额'][i]=df['比特币持有份额'][i-1]+df['现金持有份额'][i-1]*bt*2*(1-per_bt)/df['Value'][i-1]\n",
    "        df['现金持有份额'][i]=df['现金持有份额'][i-1]-df['现金持有份额'][i-1]*bt\n",
    "#         print('买比特币',df['比特币持有份额'][i],df['现金持有份额'][i])\n",
    "    if bt < bit_sell:  # 卖出比特币\n",
    "        df['比特币持有份额'][i]=df['比特币持有份额'][i-1]-df['比特币持有份额'][i-1]*(1+gold-bit_sell)\n",
    "        df['现金持有份额'][i]=df['现金持有份额'][i-1]+df['比特币持有份额'][i-1]*(1+gold-bit_sell)*(1-per_gold)*df['Value'][i-1]\n",
    "#         print('卖比特币',df['比特币持有份额'][i],df['现金持有份额'][i])"
   ]
  },
  {
   "cell_type": "markdown",
   "metadata": {},
   "source": [
    "计算总资产"
   ]
  },
  {
   "cell_type": "code",
   "execution_count": 105,
   "metadata": {},
   "outputs": [
    {
     "data": {
      "image/png": "[encoded data removed]",
      "text/plain": [
       "<Figure size 432x288 with 1 Axes>"
      ]
     },
     "metadata": {
      "needs_background": "light"
     },
     "output_type": "display_data"
    }
   ],
   "source": [
    "df['总资产']=df['黄金持有份额']*df['USD (PM)']+df['比特币持有份额']*df['Value']+df['现金持有份额']\n",
    "\n",
    "\n",
    "plt.figure()\n",
    "plt.plot(df['Date'],df['总资产'],color=\"green\")\n",
    "plt.xlabel(\"Date\")\n",
    "plt.ylabel(\"Dollar\")\n",
    "plt.title('Total assert') \n",
    "plt.savefig('111.png')\n",
    "plt.show()"
   ]
  },
  {
   "cell_type": "code",
   "execution_count": 107,
   "metadata": {},
   "outputs": [
    {
     "data": {
      "image/png": "[encoded data removed]",
      "text/plain": [
       "<Figure size 432x288 with 1 Axes>"
      ]
     },
     "metadata": {
      "needs_background": "light"
     },
     "output_type": "display_data"
    }
   ],
   "source": [
    "plt.plot(df['Date'],df['比特币持有份额'],color=\"yellow\")\n",
    "plt.xlabel(\"Date\")\n",
    "plt.ylabel(\"Bitcoins\")\n",
    "plt.title('Bitcoin') \n",
    "plt.savefig('222.png',)\n",
    "plt.show()"
   ]
  },
  {
   "cell_type": "code",
   "execution_count": 110,
   "metadata": {},
   "outputs": [
    {
     "data": {
      "image/png": "[encoded data removed]",
      "text/plain": [
       "<Figure size 432x288 with 1 Axes>"
      ]
     },
     "metadata": {
      "needs_background": "light"
     },
     "output_type": "display_data"
    }
   ],
   "source": [
    "plt.plot(df['Date'],df['黄金持有份额'],color=\"red\")\n",
    "plt.xlabel(\"Date\")\n",
    "plt.ylabel(\"Troy ounces\")\n",
    "plt.title('Gold') \n",
    "plt.savefig('333.png')\n",
    "plt.show()"
   ]
  },
  {
   "cell_type": "code",
   "execution_count": 111,
   "metadata": {},
   "outputs": [
    {
     "data": {
      "image/png": "[encoded data removed]",
      "text/plain": [
       "<Figure size 432x288 with 1 Axes>"
      ]
     },
     "metadata": {
      "needs_background": "light"
     },
     "output_type": "display_data"
    }
   ],
   "source": [
    "# DS数模团队原创思路，如果您买的是盗版，请务必在公众号：DS数模，输入：美赛。获取C题答疑群群号\n",
    "# 如果本代码出现问题或其他优化思路，会在答疑群进行更新！并且，大家有问题在答疑群中也可以问DS C君\n",
    "plt.plot(df['Date'],df['现金持有份额'],)\n",
    "plt.xlabel(\"Date\")\n",
    "plt.ylabel(\"Dollar\")\n",
    "plt.title('Cash') \n",
    "plt.savefig('444.png')\n",
    "plt.show()"
   ]
  },
  {
   "cell_type": "code",
   "execution_count": 91,
   "metadata": {},
   "outputs": [],
   "source": [
    "df.to_excel('所有数据.xlsx')"
   ]
  },
  {
   "cell_type": "markdown",
   "metadata": {},
   "source": [
    "佣金变化对结果的影响  \n",
    "黄金佣金:0.01-0.11  \n",
    "比特币佣金：0.01-0.21"
   ]
  },
  {
   "cell_type": "code",
   "execution_count": 40,
   "metadata": {},
   "outputs": [
    {
     "data": {
      "text/plain": [
       "[2025906.3454825087,\n",
       " 4513.831133333837,\n",
       " 4014.085866602114,\n",
       " 3610.654963406043,\n",
       " 3262.336471679598,\n",
       " 2945.081855652928,\n",
       " 2656.3527443175335,\n",
       " 2410.768998711141,\n",
       " 2215.4451561617493,\n",
       " 2034.4811491422465,\n",
       " 1866.9317417487157,\n",
       " 1828.7713794225647,\n",
       " 1808.9236146264425,\n",
       " 1789.0758498303203,\n",
       " 1769.228085034198,\n",
       " 1749.380320238076,\n",
       " 1729.5325554419542,\n",
       " 1709.684790645832,\n",
       " 1689.8370258497102,\n",
       " 1669.9892610535876,\n",
       " 3947.950449004322,\n",
       " 3585.773471508527,\n",
       " 3236.171431990668,\n",
       " 2926.3080383300967,\n",
       " 2643.8689203949366,\n",
       " 2386.6305527580284,\n",
       " 2152.5327116062704,\n",
       " 1953.7276041491323,\n",
       " 1795.3341717433457,\n",
       " 1758.5379910112795,\n",
       " 1739.857944696143,\n",
       " 1721.1778983810061,\n",
       " 1702.4978520658694,\n",
       " 1683.817805750733,\n",
       " 1665.137759435596,\n",
       " 1646.4577131204594,\n",
       " 1627.7776668053227,\n",
       " 1609.0976204901863,\n",
       " 1590.4175741750498,\n",
       " 1571.7375278599134,\n",
       " 3194.84351880769,\n",
       " 2893.5872798555333,\n",
       " 2618.580987129525,\n",
       " 2367.7299713652205,\n",
       " 2139.0909081058553,\n",
       " 1930.862060599879,\n",
       " 1741.374073135366,\n",
       " 1689.6304234957165,\n",
       " 1672.0557209971018,\n",
       " 1654.481018498487,\n",
       " 1636.9063159998725,\n",
       " 1619.3316135012578,\n",
       " 1601.7569110026427,\n",
       " 1584.1822085040283,\n",
       " 1566.6075060054136,\n",
       " 1549.0328035067992,\n",
       " 1531.458101008184,\n",
       " 1513.8833985095696,\n",
       " 1496.308696010955,\n",
       " 1478.7339935123405,\n",
       " 2581.0311582720256,\n",
       " 2337.53882167202,\n",
       " 2115.2729469168426,\n",
       " 1912.5389779655375,\n",
       " 1727.7648450873155,\n",
       " 1622.1311092798794,\n",
       " 1605.6023493982273,\n",
       " 1589.0735895165749,\n",
       " 1572.5448296349223,\n",
       " 1556.01606975327,\n",
       " 1539.4873098716173,\n",
       " 1522.958549989965,\n",
       " 1506.4297901083125,\n",
       " 1489.90103022666,\n",
       " 1473.3722703450076,\n",
       " 1456.8435104633552,\n",
       " 1440.3147505817026,\n",
       " 1423.7859907000502,\n",
       " 1407.2572308183978,\n",
       " 1390.7284709367452,\n",
       " 2081.56625744765,\n",
       " 1885.1004436275098,\n",
       " 1705.7693972265884,\n",
       " 1556.1110510372655,\n",
       " 1540.5716826306912,\n",
       " 1525.0323142241168,\n",
       " 1509.4929458175427,\n",
       " 1493.9535774109681,\n",
       " 1478.414209004394,\n",
       " 1462.8748405978197,\n",
       " 1447.3354721912453,\n",
       " 1431.7961037846712,\n",
       " 1416.2567353780967,\n",
       " 1400.7173669715226,\n",
       " 1385.177998564948,\n",
       " 1369.6386301583736,\n",
       " 1354.0992617517993,\n",
       " 1338.5598933452252,\n",
       " 1323.0205249386509,\n",
       " 1307.4811565320765,\n",
       " 1675.8216972223904,\n",
       " 1517.577297776064,\n",
       " 1477.0268197037346,\n",
       " 1462.4230225783783,\n",
       " 1447.8192254530222,\n",
       " 1433.215428327666,\n",
       " 1418.6116312023098,\n",
       " 1404.0078340769537,\n",
       " 1389.4040369515974,\n",
       " 1374.800239826241,\n",
       " 1360.1964427008847,\n",
       " 1345.5926455755286,\n",
       " 1330.988848450172,\n",
       " 1316.385051324816,\n",
       " 1301.78125419946,\n",
       " 1287.1774570741036,\n",
       " 1272.5736599487475,\n",
       " 1257.969862823391,\n",
       " 1243.366065698035,\n",
       " 1228.762268572679,\n",
       " 1415.0208659531,\n",
       " 1401.3014359327303,\n",
       " 1387.5820059123603,\n",
       " 1373.8625758919902,\n",
       " 1360.1431458716202,\n",
       " 1346.42371585125,\n",
       " 1332.7042858308805,\n",
       " 1318.9848558105105,\n",
       " 1305.2654257901406,\n",
       " 1291.5459957697706,\n",
       " 1277.8265657494005,\n",
       " 1264.1071357290305,\n",
       " 1250.3877057086609,\n",
       " 1236.6682756882908,\n",
       " 1222.948845667921,\n",
       " 1209.229415647551,\n",
       " 1195.509985627181,\n",
       " 1181.790555606811,\n",
       " 1168.0711255864412,\n",
       " 1154.3516955660712,\n",
       " 1328.8301312538683,\n",
       " 1315.9463693127273,\n",
       " 1303.0626073715857,\n",
       " 1290.1788454304447,\n",
       " 1277.2950834893031,\n",
       " 1264.4113215481616,\n",
       " 1251.5275596070205,\n",
       " 1238.6437976658785,\n",
       " 1225.7600357247375,\n",
       " 1212.876273783596,\n",
       " 1199.9925118424544,\n",
       " 1187.1087499013133,\n",
       " 1174.2249879601718,\n",
       " 1161.3412260190303,\n",
       " 1148.4574640778892,\n",
       " 1135.5737021367472,\n",
       " 1122.6899401956061,\n",
       " 1109.8061782544646,\n",
       " 1096.9224163133235,\n",
       " 1084.038654372182,\n",
       " 1247.4148563340414,\n",
       " 1235.3204616791993,\n",
       " 1223.2260670243572,\n",
       " 1211.1316723695152,\n",
       " 1199.037277714673,\n",
       " 1186.942883059831,\n",
       " 1174.8484884049892,\n",
       " 1162.7540937501471,\n",
       " 1150.6596990953049,\n",
       " 1138.565304440463,\n",
       " 1126.470909785621,\n",
       " 1114.376515130779,\n",
       " 1102.2821204759368,\n",
       " 1090.1877258210948,\n",
       " 1078.0933311662527,\n",
       " 1065.9989365114106,\n",
       " 1053.9045418565688,\n",
       " 1041.8101472017267,\n",
       " 1029.7157525468847,\n",
       " 1017.6213578920426,\n",
       " 1170.5383192928607,\n",
       " 1159.1892862846053,\n",
       " 1147.8402532763498,\n",
       " 1136.4912202680944,\n",
       " 1125.1421872598391,\n",
       " 1113.7931542515835,\n",
       " 1102.4441212433285,\n",
       " 1091.0950882350728,\n",
       " 1079.7460552268176,\n",
       " 1068.397022218562,\n",
       " 1057.0479892103067,\n",
       " 1045.6989562020512,\n",
       " 1034.3499231937958,\n",
       " 1023.0008901855404,\n",
       " 1011.6518571772849,\n",
       " 1000.3028241690296,\n",
       " 1000.0,\n",
       " 1000.0,\n",
       " 1000.0,\n",
       " 1000.0]"
      ]
     },
     "execution_count": 40,
     "metadata": {},
     "output_type": "execute_result"
    }
   ],
   "source": [
    "assets=[]\n",
    "\n",
    "for per_gold in np.arange(0.01,0.11,0.01):\n",
    "    for per_bt in np.arange(0.01,0.21,0.01):\n",
    "        df['总资产'][0]=1000.0\n",
    "        df['现金持有份额'][0]=1000.0\n",
    "        df['黄金持有份额'][0]=0.0\n",
    "        for i in range(1,df.shape[0]):\n",
    "            bt = df['比特币买入评分'][i]\n",
    "            df['当前黄金利润'][i]=df['当前黄金利润'][i-1]+df['黄金涨幅'][i-1]*df['黄金持有份额'][i-1]\n",
    "            df['当前比特币利润'][i]=df['当前比特币利润'][i-1]+df['比特币涨幅'][i-1]*df['比特币持有份额'][i-1]\n",
    "            df['黄金持有份额'][i]=df['黄金持有份额'][i-1]\n",
    "            df['现金持有份额'][i]=df['现金持有份额'][i-1]\n",
    "            df['比特币持有份额'][i]=df['比特币持有份额'][i-1]\n",
    "            if df['DealDay'][i]:  # 判断交易日\n",
    "                gold = df['黄金买入评分'][i]\n",
    "                if gold > 0.58:\n",
    "                    if bt > 0.71:# 两者都可买入时\n",
    "                        if gold-0.58>(bt-0.71)*2:  # 买入黄金\n",
    "                            df['黄金持有份额'][i]=df['黄金持有份额'][i-1]+df['现金持有份额'][i-1]*gold*(1-per_gold)/df['USD (PM)'][i]\n",
    "                            df['现金持有份额'][i]=df['现金持有份额'][i-1]-df['现金持有份额'][i-1]*gold\n",
    "        #                     print('两者选黄金',df['黄金持有份额'][i],df['现金持有份额'][i],df['现金持有份额'][i-1],gold,1-per_gold,df['USD (PM)'][i-1])\n",
    "                        else:  # 买入比特币\n",
    "                            df['比特币持有份额'][i]=df['比特币持有份额'][i-1]+df['现金持有份额'][i-1]*bt*(1-per_bt)/df['Value'][i]\n",
    "                            df['现金持有份额'][i]=df['现金持有份额'][i-1]-df['现金持有份额'][i-1]*bt\n",
    "        #                     print('两者选比特币',df['比特币持有份额'][i],df['现金持有份额'][i])\n",
    "                    else: # 只能买黄金时\n",
    "                        df['黄金持有份额'][i]=df['黄金持有份额'][i-1]+df['现金持有份额'][i-1]*gold*(1-per_gold)/df['USD (PM)'][i]\n",
    "                        df['现金持有份额'][i]=df['现金持有份额'][i-1]-df['现金持有份额'][i-1]*gold\n",
    "        #                 print('只能买黄金',df['黄金持有份额'][i])\n",
    "                if gold<0.3:  # 卖出黄金\n",
    "                    df['黄金持有份额'][i]=df['黄金持有份额'][i-1]-df['黄金持有份额'][i-1]*(1+gold-0.3)\n",
    "                    df['现金持有份额'][i]=df['现金持有份额'][i-1]+df['黄金持有份额'][i-1]*(1+gold-0.3)*(1-per_gold)*df['USD (PM)'][i]\n",
    "        #             print('卖黄金',df['黄金持有份额'][i],df['现金持有份额'][i])\n",
    "                continue    \n",
    "            if bt > 0.71:  # 买入比特币\n",
    "                df['比特币持有份额'][i]=df['比特币持有份额'][i-1]+df['现金持有份额'][i-1]*bt*(1-per_bt)/df['Value'][i]\n",
    "                df['现金持有份额'][i]=df['现金持有份额'][i-1]-df['现金持有份额'][i-1]*bt\n",
    "        #         print('买比特币',df['比特币持有份额'][i],df['现金持有份额'][i])\n",
    "            if bt < 0.56:  # 卖出比特币\n",
    "                df['比特币持有份额'][i]=df['比特币持有份额'][i-1]-df['比特币持有份额'][i-1]*(1+bt-0.56)\n",
    "                df['现金持有份额'][i]=df['现金持有份额'][i-1]+df['比特币持有份额'][i-1]*(1+bt-0.56)*(1-per_bt)*df['Value'][i]\n",
    "                df['总资产']=df['黄金持有份额']*df['USD (PM)']+df['比特币持有份额']*df['Value']+df['现金持有份额']\n",
    "        assets.append(df['总资产'].max())\n",
    "assets"
   ]
  },
  {
   "cell_type": "code",
   "execution_count": 43,
   "metadata": {},
   "outputs": [
    {
     "data": {
      "image/png": "[encoded data removed]",
      "text/plain": [
       "<Figure size 432x288 with 1 Axes>"
      ]
     },
     "metadata": {
      "needs_background": "light"
     },
     "output_type": "display_data"
    }
   ],
   "source": [
    "plt.plot(assets)\n",
    "plt.savefig('不同手续费最大总资产走势图.png')\n",
    "plt.show()"
   ]
  },
  {
   "cell_type": "code",
   "execution_count": 484,
   "metadata": {},
   "outputs": [],
   "source": [
    "gold_ = []\n",
    "bt_ = []\n",
    "for per_gold in np.arange(0.01,0.11,0.01):\n",
    "    for per_bt in np.arange(0.01,0.21,0.01):\n",
    "        gold_.append(per_gold)\n",
    "        bt_.append(per_bt)"
   ]
  },
  {
   "cell_type": "code",
   "execution_count": 486,
   "metadata": {},
   "outputs": [
    {
     "data": {
      "text/html": [
       "<div>\n",
       "<style scoped>\n",
       "    .dataframe tbody tr th:only-of-type {\n",
       "        vertical-align: middle;\n",
       "    }\n",
       "\n",
       "    .dataframe tbody tr th {\n",
       "        vertical-align: top;\n",
       "    }\n",
       "\n",
       "    .dataframe thead th {\n",
       "        text-align: right;\n",
       "    }\n",
       "</style>\n",
       "<table border=\"1\" class=\"dataframe\">\n",
       "  <thead>\n",
       "    <tr style=\"text-align: right;\">\n",
       "      <th></th>\n",
       "      <th>黄金佣金</th>\n",
       "      <th>比特币佣金</th>\n",
       "      <th>总资产</th>\n",
       "    </tr>\n",
       "  </thead>\n",
       "  <tbody>\n",
       "    <tr>\n",
       "      <th>0</th>\n",
       "      <td>0.01</td>\n",
       "      <td>0.01</td>\n",
       "      <td>270048.051325</td>\n",
       "    </tr>\n",
       "    <tr>\n",
       "      <th>1</th>\n",
       "      <td>0.01</td>\n",
       "      <td>0.02</td>\n",
       "      <td>252424.698239</td>\n",
       "    </tr>\n",
       "    <tr>\n",
       "      <th>2</th>\n",
       "      <td>0.01</td>\n",
       "      <td>0.03</td>\n",
       "      <td>235802.096407</td>\n",
       "    </tr>\n",
       "    <tr>\n",
       "      <th>3</th>\n",
       "      <td>0.01</td>\n",
       "      <td>0.04</td>\n",
       "      <td>220131.941916</td>\n",
       "    </tr>\n",
       "    <tr>\n",
       "      <th>4</th>\n",
       "      <td>0.01</td>\n",
       "      <td>0.05</td>\n",
       "      <td>205367.852276</td>\n",
       "    </tr>\n",
       "  </tbody>\n",
       "</table>\n",
       "</div>"
      ],
      "text/plain": [
       "   黄金佣金  比特币佣金            总资产\n",
       "0  0.01   0.01  270048.051325\n",
       "1  0.01   0.02  252424.698239\n",
       "2  0.01   0.03  235802.096407\n",
       "3  0.01   0.04  220131.941916\n",
       "4  0.01   0.05  205367.852276"
      ]
     },
     "execution_count": 486,
     "metadata": {},
     "output_type": "execute_result"
    }
   ],
   "source": [
    "df_a = pd.DataFrame()\n",
    "df_a['黄金佣金']=gold_\n",
    "df_a['比特币佣金']=bt_\n",
    "df_a['总资产']=assets\n",
    "df_a.head()"
   ]
  },
  {
   "cell_type": "code",
   "execution_count": 487,
   "metadata": {},
   "outputs": [],
   "source": [
    "df_a.to_excel('佣金-总资产表.xlsx')"
   ]
  },
  {
   "cell_type": "code",
   "execution_count": null,
   "metadata": {},
   "outputs": [],
   "source": []
  }
 ],
 "metadata": {
  "kernelspec": {
   "display_name": "Mymind",
   "language": "python",
   "name": "mymind"
  },
  "language_info": {
   "codemirror_mode": {
    "name": "ipython",
    "version": 3
   },
   "file_extension": ".py",
   "mimetype": "text/x-python",
   "name": "python",
   "nbconvert_exporter": "python",
   "pygments_lexer": "ipython3",
   "version": "3.7.5"
  },
  "toc": {
   "base_numbering": 1,
   "nav_menu": {},
   "number_sections": true,
   "sideBar": true,
   "skip_h1_title": false,
   "title_cell": "Table of Contents",
   "title_sidebar": "Contents",
   "toc_cell": false,
   "toc_position": {},
   "toc_section_display": true,
   "toc_window_display": false
  }
 },
 "nbformat": 4,
 "nbformat_minor": 4
}
